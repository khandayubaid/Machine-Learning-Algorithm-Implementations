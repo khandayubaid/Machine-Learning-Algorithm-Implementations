{
 "cells": [
  {
   "cell_type": "code",
   "execution_count": 10,
   "metadata": {},
   "outputs": [],
   "source": [
    "import pandas as pd\n",
    "import numpy as np\n",
    "from sklearn.model_selection import train_test_split\n",
    "from sklearn.svm import SVC\n",
    "from mpl_toolkits import mplot3d\n",
    "from matplotlib.axes._axes import _log as matplotlib_axes_logger\n",
    "from matplotlib.colors import ListedColormap\n",
    "import matplotlib.pyplot as plt"
   ]
  },
  {
   "cell_type": "code",
   "execution_count": 3,
   "metadata": {},
   "outputs": [],
   "source": [
    "from sklearn.datasets import make_circles"
   ]
  },
  {
   "cell_type": "code",
   "execution_count": 6,
   "metadata": {},
   "outputs": [],
   "source": [
    "X,y=make_circles(100,factor=.1, noise=.1)"
   ]
  },
  {
   "cell_type": "code",
   "execution_count": 7,
   "metadata": {},
   "outputs": [
    {
     "data": {
      "text/plain": [
       "array([[ 0.83415943, -0.72715985],\n",
       "       [ 0.11294104, -1.05702898],\n",
       "       [-0.83574339, -0.48659019],\n",
       "       [ 0.89147458, -0.31052944],\n",
       "       [ 0.08438212, -0.10014012],\n",
       "       [-0.04912494, -0.09896521],\n",
       "       [-0.09666683, -0.21216787],\n",
       "       [-0.1513479 ,  0.01903939],\n",
       "       [-0.12385352, -0.08441151],\n",
       "       [ 0.01297958, -0.0868305 ],\n",
       "       [ 0.1986354 ,  0.06218135],\n",
       "       [-0.02062581,  1.06568499],\n",
       "       [-0.01839684,  0.09681992],\n",
       "       [-0.67134451,  0.67107026],\n",
       "       [-0.69993113,  0.86585026],\n",
       "       [-0.15111069, -0.00315305],\n",
       "       [-0.88946254,  0.46672664],\n",
       "       [ 0.47105993,  1.0391611 ],\n",
       "       [-0.09431662, -0.0796754 ],\n",
       "       [ 0.27972696,  0.90827254],\n",
       "       [-0.07203648, -0.17609673],\n",
       "       [-0.81115634, -0.5346565 ],\n",
       "       [ 0.09002971,  0.02992106],\n",
       "       [ 0.12084684,  0.18423425],\n",
       "       [-0.08457527,  0.02794498],\n",
       "       [-0.02948723,  0.02282893],\n",
       "       [-0.2492089 , -0.89194153],\n",
       "       [ 0.59374267, -0.94100513],\n",
       "       [-0.94939233,  0.02547878],\n",
       "       [ 0.09763173, -0.1208398 ],\n",
       "       [ 0.67127198, -0.79510849],\n",
       "       [-0.08137635, -0.0920108 ],\n",
       "       [ 0.397212  ,  0.89032891],\n",
       "       [ 0.04435047,  0.08580827],\n",
       "       [ 0.04702463,  0.25541651],\n",
       "       [ 0.9484426 ,  0.33011613],\n",
       "       [-0.14535752, -0.27311872],\n",
       "       [-0.19930886, -0.17673967],\n",
       "       [-1.1989807 , -0.15382221],\n",
       "       [-0.81537504,  0.58671241],\n",
       "       [-0.03005668, -0.02234878],\n",
       "       [-0.00939235, -0.17165496],\n",
       "       [ 1.04629435, -0.06037766],\n",
       "       [ 0.00895895,  0.09125326],\n",
       "       [ 1.23120877,  0.19906412],\n",
       "       [ 0.49847244, -0.9533078 ],\n",
       "       [-0.30094504, -0.94894078],\n",
       "       [ 0.09138085, -0.12267917],\n",
       "       [ 0.0648883 ,  0.01030736],\n",
       "       [-0.07716938, -0.10990496],\n",
       "       [ 0.06897702,  0.04475493],\n",
       "       [ 0.25987016, -1.12896158],\n",
       "       [ 0.06596155, -0.17056076],\n",
       "       [-0.26750618,  0.11985799],\n",
       "       [-0.00141983, -0.10023194],\n",
       "       [ 0.74722732,  0.49923354],\n",
       "       [-1.02007576, -0.32077581],\n",
       "       [ 0.85069507, -0.22416181],\n",
       "       [ 0.9942174 ,  0.46993312],\n",
       "       [-0.37132279,  1.0368693 ],\n",
       "       [ 0.07223752,  0.2696661 ],\n",
       "       [-0.01687207,  0.04617805],\n",
       "       [-1.01183995,  0.15243064],\n",
       "       [ 0.63496281,  0.59235365],\n",
       "       [-0.12220956, -0.04732399],\n",
       "       [-0.10076683, -1.01841669],\n",
       "       [-0.05134205,  0.12771436],\n",
       "       [ 0.81406501, -0.37752035],\n",
       "       [-0.63858889, -0.9418477 ],\n",
       "       [-0.76266123,  0.26424528],\n",
       "       [-0.32592667,  1.08838619],\n",
       "       [ 0.12897336,  1.09939455],\n",
       "       [ 0.58093242,  0.70243561],\n",
       "       [ 0.08670225, -0.98127227],\n",
       "       [ 0.00605018,  0.06281874],\n",
       "       [-0.1646572 ,  0.04962424],\n",
       "       [ 0.1757889 ,  0.18082746],\n",
       "       [-0.09770083,  0.02403561],\n",
       "       [-0.49400498, -0.61321476],\n",
       "       [-0.04518851,  0.14978373],\n",
       "       [ 0.13151017,  0.16685807],\n",
       "       [-0.84991583,  0.48920535],\n",
       "       [-0.00152886, -0.11911182],\n",
       "       [ 0.9415767 , -0.26934186],\n",
       "       [ 0.10294348,  0.03034121],\n",
       "       [ 0.68267556, -0.69324868],\n",
       "       [-0.85207983, -0.52112909],\n",
       "       [ 0.18493847,  0.07137234],\n",
       "       [ 0.01943207, -0.0773772 ],\n",
       "       [-0.51598514, -1.03588707],\n",
       "       [-0.1338523 ,  0.0122038 ],\n",
       "       [-0.4859815 ,  0.92071512],\n",
       "       [-0.79417723, -0.62668671],\n",
       "       [ 1.05181132,  0.12665421],\n",
       "       [-0.12455311,  0.11241057],\n",
       "       [ 0.0680978 , -0.29398612],\n",
       "       [ 0.06476091,  0.10115978],\n",
       "       [-0.63841046,  0.55925665],\n",
       "       [ 0.31401633,  0.96124978],\n",
       "       [ 0.05687318,  0.05178834]])"
      ]
     },
     "execution_count": 7,
     "metadata": {},
     "output_type": "execute_result"
    }
   ],
   "source": [
    "X"
   ]
  },
  {
   "cell_type": "code",
   "execution_count": 8,
   "metadata": {},
   "outputs": [
    {
     "data": {
      "text/plain": [
       "array([0, 0, 0, 0, 1, 1, 1, 1, 1, 1, 1, 0, 1, 0, 0, 1, 0, 0, 1, 0, 1, 0,\n",
       "       1, 1, 1, 1, 0, 0, 0, 1, 0, 1, 0, 1, 1, 0, 1, 1, 0, 0, 1, 1, 0, 1,\n",
       "       0, 0, 0, 1, 1, 1, 1, 0, 1, 1, 1, 0, 0, 0, 0, 0, 1, 1, 0, 0, 1, 0,\n",
       "       1, 0, 0, 0, 0, 0, 0, 0, 1, 1, 1, 1, 0, 1, 1, 0, 1, 0, 1, 0, 0, 1,\n",
       "       1, 0, 1, 0, 0, 0, 1, 1, 1, 0, 0, 1], dtype=int64)"
      ]
     },
     "execution_count": 8,
     "metadata": {},
     "output_type": "execute_result"
    }
   ],
   "source": [
    "y"
   ]
  },
  {
   "cell_type": "code",
   "execution_count": 11,
   "metadata": {},
   "outputs": [
    {
     "data": {
      "text/plain": [
       "<matplotlib.collections.PathCollection at 0x2577d32f760>"
      ]
     },
     "execution_count": 11,
     "metadata": {},
     "output_type": "execute_result"
    },
    {
     "data": {
      "image/png": "[encoded data removed]",
      "text/plain": [
       "<Figure size 432x288 with 1 Axes>"
      ]
     },
     "metadata": {
      "needs_background": "light"
     },
     "output_type": "display_data"
    }
   ],
   "source": [
    "plt.scatter(X[:,0],X[:,1],c=y,s=50,cmap='bwr')"
   ]
  },
  {
   "cell_type": "code",
   "execution_count": 12,
   "metadata": {},
   "outputs": [],
   "source": [
    "X_train,X_test,y_train,y_test=train_test_split(X,y,test_size=0.20)"
   ]
  },
  {
   "cell_type": "code",
   "execution_count": 13,
   "metadata": {},
   "outputs": [
    {
     "data": {
      "text/plain": [
       "array([[-0.05134205,  0.12771436],\n",
       "       [ 0.11294104, -1.05702898],\n",
       "       [ 0.08438212, -0.10014012],\n",
       "       [-0.51598514, -1.03588707],\n",
       "       [ 1.23120877,  0.19906412],\n",
       "       [ 0.68267556, -0.69324868],\n",
       "       [-0.00152886, -0.11911182],\n",
       "       [-1.01183995,  0.15243064],\n",
       "       [-0.26750618,  0.11985799],\n",
       "       [ 0.00605018,  0.06281874],\n",
       "       [-0.08457527,  0.02794498],\n",
       "       [-0.67134451,  0.67107026],\n",
       "       [ 0.58093242,  0.70243561],\n",
       "       [-0.03005668, -0.02234878],\n",
       "       [-0.79417723, -0.62668671],\n",
       "       [-0.1646572 ,  0.04962424],\n",
       "       [ 0.08670225, -0.98127227],\n",
       "       [ 0.09002971,  0.02992106],\n",
       "       [ 0.31401633,  0.96124978],\n",
       "       [ 0.89147458, -0.31052944],\n",
       "       [ 0.74722732,  0.49923354],\n",
       "       [-0.15111069, -0.00315305],\n",
       "       [-0.09431662, -0.0796754 ],\n",
       "       [ 0.06596155, -0.17056076],\n",
       "       [-0.63841046,  0.55925665],\n",
       "       [ 0.1757889 ,  0.18082746],\n",
       "       [ 0.63496281,  0.59235365],\n",
       "       [-0.4859815 ,  0.92071512],\n",
       "       [-0.81537504,  0.58671241],\n",
       "       [-0.09770083,  0.02403561],\n",
       "       [-0.76266123,  0.26424528],\n",
       "       [-0.94939233,  0.02547878],\n",
       "       [-0.08137635, -0.0920108 ],\n",
       "       [ 0.18493847,  0.07137234],\n",
       "       [-0.30094504, -0.94894078],\n",
       "       [-0.09666683, -0.21216787],\n",
       "       [ 1.05181132,  0.12665421],\n",
       "       [ 0.04702463,  0.25541651],\n",
       "       [ 0.9942174 ,  0.46993312],\n",
       "       [ 0.12084684,  0.18423425],\n",
       "       [-0.63858889, -0.9418477 ],\n",
       "       [-0.12455311,  0.11241057],\n",
       "       [ 0.06476091,  0.10115978],\n",
       "       [-0.00939235, -0.17165496],\n",
       "       [ 0.83415943, -0.72715985],\n",
       "       [-0.85207983, -0.52112909],\n",
       "       [ 0.01943207, -0.0773772 ],\n",
       "       [ 0.9484426 ,  0.33011613],\n",
       "       [-0.1338523 ,  0.0122038 ],\n",
       "       [-0.84991583,  0.48920535],\n",
       "       [-0.81115634, -0.5346565 ],\n",
       "       [-0.1513479 ,  0.01903939],\n",
       "       [-0.01687207,  0.04617805],\n",
       "       [-0.19930886, -0.17673967],\n",
       "       [ 0.00895895,  0.09125326],\n",
       "       [ 0.06897702,  0.04475493],\n",
       "       [ 0.49847244, -0.9533078 ],\n",
       "       [-0.02948723,  0.02282893],\n",
       "       [ 1.04629435, -0.06037766],\n",
       "       [ 0.85069507, -0.22416181],\n",
       "       [ 0.59374267, -0.94100513],\n",
       "       [ 0.0680978 , -0.29398612],\n",
       "       [ 0.27972696,  0.90827254],\n",
       "       [-1.1989807 , -0.15382221],\n",
       "       [-0.10076683, -1.01841669],\n",
       "       [-0.12220956, -0.04732399],\n",
       "       [ 0.67127198, -0.79510849],\n",
       "       [ 0.01297958, -0.0868305 ],\n",
       "       [-0.07716938, -0.10990496],\n",
       "       [-0.12385352, -0.08441151],\n",
       "       [ 0.81406501, -0.37752035],\n",
       "       [-0.00141983, -0.10023194],\n",
       "       [-0.37132279,  1.0368693 ],\n",
       "       [ 0.397212  ,  0.89032891],\n",
       "       [-0.49400498, -0.61321476],\n",
       "       [-1.02007576, -0.32077581],\n",
       "       [-0.04518851,  0.14978373],\n",
       "       [ 0.13151017,  0.16685807],\n",
       "       [-0.32592667,  1.08838619],\n",
       "       [ 0.1986354 ,  0.06218135]])"
      ]
     },
     "execution_count": 13,
     "metadata": {},
     "output_type": "execute_result"
    }
   ],
   "source": [
    "X_train"
   ]
  },
  {
   "cell_type": "code",
   "execution_count": 15,
   "metadata": {},
   "outputs": [],
   "source": [
    "classifier=SVC(kernel=\"linear\")"
   ]
  },
  {
   "cell_type": "code",
   "execution_count": 16,
   "metadata": {},
   "outputs": [
    {
     "data": {
      "text/plain": [
       "SVC(kernel='linear')"
      ]
     },
     "execution_count": 16,
     "metadata": {},
     "output_type": "execute_result"
    }
   ],
   "source": [
    "classifier.fit(X_train,y_train)"
   ]
  },
  {
   "cell_type": "code",
   "execution_count": 17,
   "metadata": {},
   "outputs": [],
   "source": [
    "y_pred=classifier.predict(X_test)"
   ]
  },
  {
   "cell_type": "code",
   "execution_count": 20,
   "metadata": {},
   "outputs": [
    {
     "data": {
      "text/plain": [
       "array([1, 0, 1, 0, 1, 0, 0, 0, 0, 0, 0, 0, 0, 0, 0, 0, 0, 1, 1, 0],\n",
       "      dtype=int64)"
      ]
     },
     "execution_count": 20,
     "metadata": {},
     "output_type": "execute_result"
    }
   ],
   "source": [
    "## this is a predicted value\n",
    "y_pred"
   ]
  },
  {
   "cell_type": "code",
   "execution_count": 21,
   "metadata": {},
   "outputs": [
    {
     "data": {
      "text/plain": [
       "array([0, 1, 0, 1, 0, 1, 1, 0, 1, 1, 0, 1, 0, 1, 1, 1, 0, 0, 0, 1],\n",
       "      dtype=int64)"
      ]
     },
     "execution_count": 21,
     "metadata": {},
     "output_type": "execute_result"
    }
   ],
   "source": [
    "##it is actual value\n",
    "y_test"
   ]
  },
  {
   "cell_type": "code",
   "execution_count": 18,
   "metadata": {},
   "outputs": [],
   "source": [
    "from sklearn.metrics import accuracy_score"
   ]
  },
  {
   "cell_type": "code",
   "execution_count": 19,
   "metadata": {},
   "outputs": [
    {
     "data": {
      "text/plain": [
       "0.2"
      ]
     },
     "execution_count": 19,
     "metadata": {},
     "output_type": "execute_result"
    }
   ],
   "source": [
    "accuracy_score(y_test,y_pred)"
   ]
  },
  {
   "cell_type": "code",
   "execution_count": 22,
   "metadata": {},
   "outputs": [],
   "source": [
    "classifier2=SVC(kernel=\"rbf\")"
   ]
  },
  {
   "cell_type": "code",
   "execution_count": 23,
   "metadata": {},
   "outputs": [
    {
     "data": {
      "text/plain": [
       "SVC()"
      ]
     },
     "execution_count": 23,
     "metadata": {},
     "output_type": "execute_result"
    }
   ],
   "source": [
    "classifier2.fit(X_train,y_train)"
   ]
  },
  {
   "cell_type": "code",
   "execution_count": 24,
   "metadata": {},
   "outputs": [],
   "source": [
    "y_pred2=classifier2.predict(X_test)"
   ]
  },
  {
   "cell_type": "code",
   "execution_count": 25,
   "metadata": {},
   "outputs": [
    {
     "data": {
      "text/plain": [
       "1.0"
      ]
     },
     "execution_count": 25,
     "metadata": {},
     "output_type": "execute_result"
    }
   ],
   "source": [
    "accuracy_score(y_test,y_pred2)"
   ]
  },
  {
   "cell_type": "code",
   "execution_count": 26,
   "metadata": {},
   "outputs": [
    {
     "data": {
      "text/plain": [
       "array([0, 1, 0, 1, 0, 1, 1, 0, 1, 1, 0, 1, 0, 1, 1, 1, 0, 0, 0, 1],\n",
       "      dtype=int64)"
      ]
     },
     "execution_count": 26,
     "metadata": {},
     "output_type": "execute_result"
    }
   ],
   "source": [
    "# this is my actual value\n",
    "y_test"
   ]
  },
  {
   "cell_type": "code",
   "execution_count": 28,
   "metadata": {},
   "outputs": [
    {
     "data": {
      "text/plain": [
       "array([0, 1, 0, 1, 0, 1, 1, 0, 1, 1, 0, 1, 0, 1, 1, 1, 0, 0, 0, 1],\n",
       "      dtype=int64)"
      ]
     },
     "execution_count": 28,
     "metadata": {},
     "output_type": "execute_result"
    }
   ],
   "source": [
    "#this is my second predited value\n",
    "y_pred2"
   ]
  },
  {
   "cell_type": "code",
   "execution_count": 29,
   "metadata": {},
   "outputs": [],
   "source": [
    "classifier3=SVC(kernel=\"poly\")"
   ]
  },
  {
   "cell_type": "code",
   "execution_count": 30,
   "metadata": {},
   "outputs": [
    {
     "data": {
      "text/plain": [
       "SVC(kernel='poly')"
      ]
     },
     "execution_count": 30,
     "metadata": {},
     "output_type": "execute_result"
    }
   ],
   "source": [
    "classifier3.fit(X_train,y_train)"
   ]
  },
  {
   "cell_type": "code",
   "execution_count": 31,
   "metadata": {},
   "outputs": [],
   "source": [
    "y_pred3=classifier3.predict(X_test)"
   ]
  },
  {
   "cell_type": "code",
   "execution_count": 32,
   "metadata": {},
   "outputs": [
    {
     "data": {
      "text/plain": [
       "0.7"
      ]
     },
     "execution_count": 32,
     "metadata": {},
     "output_type": "execute_result"
    }
   ],
   "source": [
    "accuracy_score(y_test,y_pred3)"
   ]
  },
  {
   "cell_type": "code",
   "execution_count": 33,
   "metadata": {},
   "outputs": [],
   "source": [
    "classifier4=SVC(kernel=\"poly\",degree=2)"
   ]
  },
  {
   "cell_type": "code",
   "execution_count": 34,
   "metadata": {},
   "outputs": [
    {
     "data": {
      "text/plain": [
       "SVC(degree=2, kernel='poly')"
      ]
     },
     "execution_count": 34,
     "metadata": {},
     "output_type": "execute_result"
    }
   ],
   "source": [
    "classifier4.fit(X_train,y_train)"
   ]
  },
  {
   "cell_type": "code",
   "execution_count": 35,
   "metadata": {},
   "outputs": [],
   "source": [
    "y_pred4=classifier4.predict(X_test)"
   ]
  },
  {
   "cell_type": "code",
   "execution_count": 36,
   "metadata": {},
   "outputs": [
    {
     "data": {
      "text/plain": [
       "1.0"
      ]
     },
     "execution_count": 36,
     "metadata": {},
     "output_type": "execute_result"
    }
   ],
   "source": [
    "accuracy_score(y_test,y_pred4)"
   ]
  },
  {
   "cell_type": "code",
   "execution_count": null,
   "metadata": {},
   "outputs": [],
   "source": []
  }
 ],
 "metadata": {
  "kernelspec": {
   "display_name": "Python 3",
   "language": "python",
   "name": "python3"
  },
  "language_info": {
   "codemirror_mode": {
    "name": "ipython",
    "version": 3
   },
   "file_extension": ".py",
   "mimetype": "text/x-python",
   "name": "python",
   "nbconvert_exporter": "python",
   "pygments_lexer": "ipython3",
   "version": "3.7.4"
  }
 },
 "nbformat": 4,
 "nbformat_minor": 5
}
